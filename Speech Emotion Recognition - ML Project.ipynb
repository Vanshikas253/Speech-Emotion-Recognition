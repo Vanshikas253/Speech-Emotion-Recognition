{
 "cells": [
  {
   "cell_type": "code",
   "execution_count": 3,
   "id": "923db0f5",
   "metadata": {},
   "outputs": [],
   "source": [
    "import soundfile\n",
    "import os\n",
    "import librosa\n",
    "import pyaudio\n",
    "import glob\n",
    "import pickle\n",
    "import numpy as np\n",
    "from sklearn.model_selection import train_test_split\n",
    "from sklearn.neural_network import MLPClassifier\n",
    "from sklearn.metrics import accuracy_score\n",
    "import re"
   ]
  },
  {
   "cell_type": "markdown",
   "id": "8eb15804",
   "metadata": {},
   "source": [
    "# I. Feature extraction, standarization and feature importance evaluation"
   ]
  },
  {
   "cell_type": "code",
   "execution_count": 4,
   "id": "b910e736",
   "metadata": {},
   "outputs": [],
   "source": [
    "#DataFlair - Extract features (mfcc, chroma, mel) from a sound file\n",
    "def extract_feature(file_name, mfcc, chroma, mel):\n",
    "    with soundfile.SoundFile(file_name) as sound_file:\n",
    "        X = sound_file.read(dtype=\"float32\")\n",
    "        sample_rate=sound_file.samplerate\n",
    "        if chroma:\n",
    "            stft=np.abs(librosa.stft(X))\n",
    "        result=np.array([])\n",
    "        if mfcc:\n",
    "            mfccs=np.mean(librosa.feature.mfcc(y=X, sr=sample_rate, n_mfcc=40).T, axis=0)\n",
    "            result=np.hstack((result, mfccs))\n",
    "        if chroma:\n",
    "            chroma=np.mean(librosa.feature.chroma_stft(S=stft, sr=sample_rate).T,axis=0)\n",
    "            result=np.hstack((result, chroma))\n",
    "        if mel:\n",
    "            mel=np.mean(librosa.feature.melspectrogram(X, sr=sample_rate).T,axis=0)\n",
    "            result=np.hstack((result, mel))\n",
    "    return result"
   ]
  },
  {
   "cell_type": "markdown",
   "id": "bc9c3770",
   "metadata": {},
   "source": [
    "Read four datasets and prepare for the extraction"
   ]
  },
  {
   "cell_type": "code",
   "execution_count": 5,
   "id": "c7a06e6f",
   "metadata": {},
   "outputs": [],
   "source": [
    "emotions_ravdess={\n",
    "  '01':'neutral',\n",
    "  '02':'calm',\n",
    "  '03':'happy',\n",
    "  '04':'sad',\n",
    "  '05':'angry',\n",
    "  '06':'fearful',\n",
    "  '07':'disgust',\n",
    "  '08':'surprised'\n",
    "}\n",
    "emotions_TESS={\n",
    "    'fear':'fearful',\n",
    "    'sad':'sad',\n",
    "    'angry':'angry',\n",
    "    'disgust':'disgust',\n",
    "    'happy':'happy',\n",
    "    'neutral':'neutral',\n",
    "    'ps':'surprised'\n",
    "}\n",
    "emotions_SAVEE={\n",
    "    'f':'fearful',\n",
    "    'sa':'sad',\n",
    "    'a':'angry',\n",
    "    'd':'disgust',\n",
    "    'h':'happy',\n",
    "    'n':'neutral',\n",
    "    'su':'surprised'\n",
    "}\n",
    "emotions_CREMA_D={\n",
    "    'FEA':'fearful',\n",
    "    'SAD':'sad',\n",
    "    'ANG':'angry',\n",
    "    'DIS':'disgust',\n",
    "    'HAP':'happy',\n",
    "    'NEU':'neutral'\n",
    "}\n",
    "#DataFlair - Emotions to observe\n",
    "observed_emotions=['calm', 'happy', 'fearful', 'disgust','neutral','sad','angry','surprised']"
   ]
  },
  {
   "cell_type": "markdown",
   "id": "6e87cc8e",
   "metadata": {},
   "source": [
    "Load the data, extract features for each sound file and split the dataset"
   ]
  },
  {
   "cell_type": "code",
   "execution_count": 6,
   "id": "a6620f91",
   "metadata": {},
   "outputs": [],
   "source": [
    "#DataFlair - Load the data and extract features for each sound file\n",
    "def load_data(test_size=0.2):\n",
    "    x,y=[],[]\n",
    "    #RAVDESS\n",
    "    for file in glob.glob(\"RAVDESS\\\\Actor_*\\\\*.wav\"):\n",
    "        file_name=os.path.basename(file)\n",
    "        emotion=emotions_ravdess[file_name.split(\"-\")[2]]\n",
    "        if emotion not in observed_emotions:\n",
    "            continue\n",
    "        feature=extract_feature(file, mfcc=True, chroma=True, mel=True)\n",
    "        x.append(feature)\n",
    "        y.append(emotion)\n",
    "    #TESS\n",
    "    for file in glob.glob(\"TESS\\\\*\\\\*.wav\"):\n",
    "        file_name=os.path.basename(file)\n",
    "        emotion=emotions_TESS[re.split(r'[_.\\s]\\s*',file_name)[2]]\n",
    "        if emotion not in observed_emotions:\n",
    "            continue\n",
    "        feature=extract_feature(file, mfcc=True, chroma=True, mel=True)\n",
    "        x.append(feature)\n",
    "        y.append(emotion)\n",
    "    #SAVEE ######\n",
    "    for file in glob.glob(\"SAVEE\\\\*\\\\*.wav\"):\n",
    "        file_name=os.path.basename(file)\n",
    "        if file_name[1].isdigit():\n",
    "            emoss=file_name[0]\n",
    "        else:\n",
    "            emoss=file_name[:2]\n",
    "        emotion=emotions_SAVEE[emoss]\n",
    "        if emotion not in observed_emotions:\n",
    "            continue\n",
    "        feature=extract_feature(file, mfcc=True, chroma=True, mel=True)\n",
    "        x.append(feature)\n",
    "        y.append(emotion) \n",
    "    #CREMA-D\n",
    "    for file in glob.glob(\"CREMA-D\\\\*.wav\"):\n",
    "        file_name=os.path.basename(file)\n",
    "        emotion=emotions_CREMA_D[file_name.split(\"_\")[2]]\n",
    "        if emotion not in observed_emotions:\n",
    "            continue\n",
    "        feature=extract_feature(file, mfcc=True, chroma=True, mel=True)\n",
    "        x.append(feature)\n",
    "        y.append(emotion)     \n",
    "    return train_test_split(np.array(x), y, test_size=test_size, random_state=9)"
   ]
  },
  {
   "cell_type": "code",
   "execution_count": 7,
   "id": "515e395a",
   "metadata": {},
   "outputs": [
    {
     "name": "stderr",
     "output_type": "stream",
     "text": [
      "D:\\Anacoda\\lib\\site-packages\\librosa\\core\\pitch.py:153: UserWarning: Trying to estimate tuning from empty frequency set.\n",
      "  warnings.warn(\"Trying to estimate tuning from empty frequency set.\")\n"
     ]
    }
   ],
   "source": [
    "#DataFlair - Split the dataset\n",
    "x_train,x_test,y_train,y_test=load_data(test_size=0.1)"
   ]
  },
  {
   "cell_type": "markdown",
   "id": "155cf278",
   "metadata": {},
   "source": [
    "Show the shape of our data"
   ]
  },
  {
   "cell_type": "code",
   "execution_count": 8,
   "id": "42eda898",
   "metadata": {},
   "outputs": [
    {
     "name": "stdout",
     "output_type": "stream",
     "text": [
      "(10945, 1217)\n"
     ]
    }
   ],
   "source": [
    "#DataFlair - Get the shape of the training and testing datasets\n",
    "print((x_train.shape[0], x_test.shape[0]))"
   ]
  },
  {
   "cell_type": "code",
   "execution_count": 9,
   "id": "85220e0e",
   "metadata": {},
   "outputs": [
    {
     "name": "stdout",
     "output_type": "stream",
     "text": [
      "Features extracted: 180\n"
     ]
    }
   ],
   "source": [
    "#DataFlair - Get the number of features extracted\n",
    "print(f'Features extracted: {x_train.shape[1]}')"
   ]
  },
  {
   "cell_type": "markdown",
   "id": "dbdffaf1",
   "metadata": {},
   "source": [
    "Standarization part, in order to imporve accuracy"
   ]
  },
  {
   "cell_type": "code",
   "execution_count": 10,
   "id": "1f45b354",
   "metadata": {},
   "outputs": [],
   "source": [
    "#standarization\n",
    "from sklearn.preprocessing import StandardScaler\n",
    "x_total=np.vstack([x_train,x_test])\n",
    "transformer = StandardScaler().fit(x_total)\n",
    "x_tr_s = transformer.transform(x_train)\n",
    "x_te_s = transformer.transform(x_test)\n",
    "x_tl_s = transformer.transform(x_total)"
   ]
  },
  {
   "cell_type": "markdown",
   "id": "0a3e1551",
   "metadata": {},
   "source": [
    "Feature importance evaluation"
   ]
  },
  {
   "cell_type": "code",
   "execution_count": 11,
   "id": "ab3bae9b",
   "metadata": {},
   "outputs": [],
   "source": [
    "#evaluate the importance of features\n",
    "from sklearn.ensemble import RandomForestClassifier\n",
    "import pandas as pd"
   ]
  },
  {
   "cell_type": "code",
   "execution_count": 12,
   "id": "30ada3d1",
   "metadata": {},
   "outputs": [],
   "source": [
    "xtes_df=pd.DataFrame(x_te_s)\n",
    "xtrs_df=pd.DataFrame(x_tr_s)\n",
    "xtls_df=pd.DataFrame(x_tl_s)\n",
    "yte_df=pd.DataFrame(y_test)\n",
    "ytr_df=pd.DataFrame(y_train)\n",
    "y=pd.DataFrame(y_train+y_test)"
   ]
  },
  {
   "cell_type": "code",
   "execution_count": 13,
   "id": "9a0c6903",
   "metadata": {},
   "outputs": [
    {
     "name": "stderr",
     "output_type": "stream",
     "text": [
      "<ipython-input-13-228a97949c44>:4: DataConversionWarning: A column-vector y was passed when a 1d array was expected. Please change the shape of y to (n_samples,), for example using ravel().\n",
      "  forest.fit(xtls_df,y)\n"
     ]
    },
    {
     "name": "stdout",
     "output_type": "stream",
     "text": [
      " 1. 136                            0.011180\n",
      " 2. 137                            0.010229\n",
      " 3. 37                             0.010149\n",
      " 4. 58                             0.010068\n",
      " 5. 62                             0.009692\n",
      " 6. 135                            0.009361\n",
      " 7. 0                              0.009307\n",
      " 8. 20                             0.009075\n",
      " 9. 61                             0.008941\n",
      "10. 17                             0.008926\n",
      "11. 145                            0.008898\n",
      "12. 134                            0.008593\n",
      "13. 56                             0.008494\n",
      "14. 36                             0.008331\n",
      "15. 35                             0.008287\n",
      "16. 63                             0.008089\n",
      "17. 138                            0.007940\n",
      "18. 57                             0.007875\n",
      "19. 50                             0.007727\n",
      "20. 49                             0.007673\n",
      "21. 38                             0.007660\n",
      "22. 22                             0.007627\n",
      "23. 59                             0.007531\n",
      "24. 26                             0.007523\n",
      "25. 90                             0.007521\n",
      "26. 147                            0.007476\n",
      "27. 55                             0.007271\n",
      "28. 53                             0.007263\n",
      "29. 144                            0.007248\n",
      "30. 92                             0.007204\n",
      "31. 25                             0.007188\n",
      "32. 48                             0.007173\n",
      "33. 31                             0.007091\n",
      "34. 11                             0.007076\n",
      "35. 146                            0.007073\n",
      "36. 3                              0.007033\n",
      "37. 23                             0.006757\n",
      "38. 18                             0.006707\n",
      "39. 132                            0.006653\n",
      "40. 54                             0.006642\n",
      "41. 39                             0.006637\n",
      "42. 8                              0.006606\n",
      "43. 24                             0.006577\n",
      "44. 99                             0.006565\n",
      "45. 87                             0.006550\n",
      "46. 64                             0.006520\n",
      "47. 32                             0.006499\n",
      "48. 65                             0.006474\n",
      "49. 2                              0.006432\n",
      "50. 15                             0.006367\n",
      "51. 47                             0.006348\n",
      "52. 60                             0.006283\n",
      "53. 21                             0.006218\n",
      "54. 125                            0.006147\n",
      "55. 45                             0.006120\n",
      "56. 93                             0.006035\n",
      "57. 9                              0.006032\n",
      "58. 88                             0.005950\n",
      "59. 100                            0.005903\n",
      "60. 44                             0.005805\n",
      "61. 139                            0.005799\n",
      "62. 1                              0.005789\n",
      "63. 112                            0.005789\n",
      "64. 109                            0.005742\n",
      "65. 46                             0.005719\n",
      "66. 7                              0.005622\n",
      "67. 68                             0.005604\n",
      "68. 66                             0.005568\n",
      "69. 10                             0.005559\n",
      "70. 140                            0.005513\n",
      "71. 89                             0.005498\n",
      "72. 110                            0.005463\n",
      "73. 33                             0.005438\n",
      "74. 12                             0.005407\n",
      "75. 27                             0.005402\n",
      "76. 114                            0.005396\n",
      "77. 16                             0.005338\n",
      "78. 115                            0.005337\n",
      "79. 133                            0.005334\n",
      "80. 95                             0.005314\n",
      "81. 119                            0.005283\n",
      "82. 28                             0.005243\n",
      "83. 130                            0.005202\n",
      "84. 142                            0.005191\n",
      "85. 86                             0.005183\n",
      "86. 111                            0.005151\n",
      "87. 77                             0.005130\n",
      "88. 141                            0.005077\n",
      "89. 94                             0.005074\n",
      "90. 67                             0.005061\n",
      "91. 19                             0.004985\n",
      "92. 70                             0.004984\n",
      "93. 52                             0.004974\n",
      "94. 51                             0.004963\n",
      "95. 117                            0.004902\n",
      "96. 4                              0.004894\n",
      "97. 14                             0.004883\n",
      "98. 107                            0.004859\n",
      "99. 30                             0.004846\n",
      "100. 43                             0.004841\n",
      "101. 121                            0.004830\n",
      "102. 69                             0.004798\n",
      "103. 101                            0.004762\n",
      "104. 96                             0.004724\n",
      "105. 91                             0.004712\n",
      "106. 161                            0.004697\n",
      "107. 127                            0.004691\n",
      "108. 118                            0.004680\n",
      "109. 84                             0.004657\n",
      "110. 129                            0.004654\n",
      "111. 124                            0.004642\n",
      "112. 128                            0.004622\n",
      "113. 42                             0.004621\n",
      "114. 160                            0.004611\n",
      "115. 6                              0.004604\n",
      "116. 120                            0.004594\n",
      "117. 29                             0.004589\n",
      "118. 71                             0.004584\n",
      "119. 73                             0.004550\n",
      "120. 108                            0.004530\n",
      "121. 74                             0.004522\n",
      "122. 162                            0.004509\n",
      "123. 113                            0.004500\n",
      "124. 75                             0.004480\n",
      "125. 72                             0.004467\n",
      "126. 13                             0.004463\n",
      "127. 34                             0.004456\n",
      "128. 122                            0.004432\n",
      "129. 123                            0.004419\n",
      "130. 131                            0.004412\n",
      "131. 106                            0.004409\n",
      "132. 5                              0.004406\n",
      "133. 85                             0.004393\n",
      "134. 98                             0.004375\n",
      "135. 150                            0.004370\n",
      "136. 116                            0.004341\n",
      "137. 76                             0.004334\n",
      "138. 148                            0.004304\n",
      "139. 166                            0.004303\n",
      "140. 102                            0.004301\n",
      "141. 83                             0.004277\n",
      "142. 179                            0.004272\n",
      "143. 105                            0.004266\n",
      "144. 40                             0.004255\n",
      "145. 41                             0.004254\n",
      "146. 168                            0.004235\n",
      "147. 151                            0.004229\n",
      "148. 104                            0.004226\n",
      "149. 163                            0.004218\n",
      "150. 164                            0.004213\n",
      "151. 155                            0.004206\n",
      "152. 126                            0.004197\n",
      "153. 78                             0.004190\n",
      "154. 159                            0.004133\n",
      "155. 149                            0.004131\n",
      "156. 152                            0.004119\n",
      "157. 97                             0.004098\n",
      "158. 154                            0.004069\n",
      "159. 79                             0.004043\n",
      "160. 81                             0.004025\n",
      "161. 167                            0.004019\n",
      "162. 143                            0.004011\n",
      "163. 153                            0.003972\n",
      "164. 169                            0.003935\n",
      "165. 158                            0.003897\n",
      "166. 174                            0.003872\n",
      "167. 175                            0.003865\n",
      "168. 103                            0.003855\n",
      "169. 170                            0.003853\n",
      "170. 80                             0.003843\n",
      "171. 172                            0.003807\n",
      "172. 178                            0.003778\n",
      "173. 157                            0.003700\n",
      "174. 165                            0.003648\n",
      "175. 176                            0.003632\n",
      "176. 82                             0.003630\n",
      "177. 171                            0.003614\n",
      "178. 177                            0.003458\n",
      "179. 156                            0.003378\n",
      "180. 173                            0.003254\n"
     ]
    }
   ],
   "source": [
    "#using random forest\n",
    "feat_labels=xtls_df.columns\n",
    "forest=RandomForestClassifier(n_jobs=-1)\n",
    "forest.fit(xtls_df,y)\n",
    "importances=forest.feature_importances_\n",
    "indices=np.argsort(importances)[::-1]\n",
    "\n",
    "for i in range(len(indices)):\n",
    "    print(\"%2d. %-*s %f\" % (i + 1, 30, feat_labels[indices[i]], importances[indices[i]]))"
   ]
  },
  {
   "cell_type": "markdown",
   "id": "9efd13ca",
   "metadata": {},
   "source": [
    "# II. Modeling (MLP, Decision tree, Extra tree, SVM, Random forest)"
   ]
  },
  {
   "cell_type": "markdown",
   "id": "c50c09ac",
   "metadata": {},
   "source": [
    "1. MLP and its confusion matrix "
   ]
  },
  {
   "cell_type": "code",
   "execution_count": 14,
   "id": "10379b10",
   "metadata": {},
   "outputs": [
    {
     "name": "stdout",
     "output_type": "stream",
     "text": [
      "0.6351684470008216\n"
     ]
    }
   ],
   "source": [
    "#MLP\n",
    "mlp=MLPClassifier(solver='adam',activation='logistic',hidden_layer_sizes=[100],random_state=1,learning_rate='adaptive',alpha=0.1,max_iter=1000).fit(x_tr_s,y_train)\n",
    "y_pred=mlp.predict(x_te_s)\n",
    "mlp_acc=accuracy_score(y_true=y_test, y_pred=y_pred)\n",
    "print(mlp_acc)"
   ]
  },
  {
   "cell_type": "code",
   "execution_count": 15,
   "id": "d58b355d",
   "metadata": {},
   "outputs": [],
   "source": [
    "from sklearn.metrics import confusion_matrix,ConfusionMatrixDisplay\n",
    "import matplotlib.pyplot as plt\n",
    "import pandas as pd"
   ]
  },
  {
   "cell_type": "code",
   "execution_count": 16,
   "id": "1af0b27d",
   "metadata": {},
   "outputs": [
    {
     "data": {
      "text/plain": [
       "array([[ 12,   0,   0,   1,   0,   1,   0,   0],\n",
       "       [  0, 124,  17,  24,  11,   7,  19,   0],\n",
       "       [  0,  17, 101,  16,   5,  29,  11,   1],\n",
       "       [  2,  25,  11, 112,  25,  17,  11,   4],\n",
       "       [  2,  13,   8,  20, 104,  18,   1,   2],\n",
       "       [  5,   2,  19,  18,  19, 124,   1,   0],\n",
       "       [  0,  18,   7,  23,   2,   1, 142,   3],\n",
       "       [  0,   1,   3,   4,   0,   0,   0,  54]], dtype=int64)"
      ]
     },
     "execution_count": 16,
     "metadata": {},
     "output_type": "execute_result"
    }
   ],
   "source": [
    "cm = confusion_matrix(y_test, y_pred,labels=['calm', 'happy', 'fearful', 'disgust','neutral','sad','angry','surprised'])\n",
    "cm"
   ]
  },
  {
   "cell_type": "code",
   "execution_count": 22,
   "id": "fb4f715f",
   "metadata": {},
   "outputs": [
    {
     "data": {
      "image/png": "[encoded data removed]",
      "text/plain": [
       "<Figure size 432x288 with 2 Axes>"
      ]
     },
     "metadata": {
      "needs_background": "light"
     },
     "output_type": "display_data"
    }
   ],
   "source": [
    "labels=['calm', 'happy', 'fearful', 'disgust','neutral','sad','angry','surprised']\n",
    "disp = ConfusionMatrixDisplay(confusion_matrix=cm, display_labels=labels)\n",
    "disp.plot()\n",
    "plt.xticks(rotation=45)\n",
    "plt.show()"
   ]
  },
  {
   "cell_type": "markdown",
   "id": "87fda3d4",
   "metadata": {},
   "source": [
    "2. Decision Tree"
   ]
  },
  {
   "cell_type": "code",
   "execution_count": 26,
   "id": "e5f1f762",
   "metadata": {},
   "outputs": [],
   "source": [
    "#Decision tree\n",
    "from sklearn.tree import DecisionTreeClassifier"
   ]
  },
  {
   "cell_type": "code",
   "execution_count": 52,
   "id": "3dece6cb",
   "metadata": {},
   "outputs": [
    {
     "name": "stdout",
     "output_type": "stream",
     "text": [
      "0.5135579293344289\n"
     ]
    }
   ],
   "source": [
    "tree = DecisionTreeClassifier(random_state=5, criterion='gini', max_depth=16).fit(x_tr_s, y_train)\n",
    "y_pred= tree.predict(x_te_s)\n",
    "DT_acc = accuracy_score(y_true=y_test, y_pred=y_pred)\n",
    "print(DT_acc)"
   ]
  },
  {
   "cell_type": "markdown",
   "id": "df2e8dfe",
   "metadata": {},
   "source": [
    "3. Extra tree and its confusion matrix"
   ]
  },
  {
   "cell_type": "code",
   "execution_count": 23,
   "id": "c227b182",
   "metadata": {},
   "outputs": [],
   "source": [
    "#Extratree\n",
    "from sklearn.ensemble import ExtraTreesClassifier"
   ]
  },
  {
   "cell_type": "code",
   "execution_count": 24,
   "id": "1018dd4b",
   "metadata": {},
   "outputs": [
    {
     "name": "stdout",
     "output_type": "stream",
     "text": [
      "0.637633525061627\n"
     ]
    }
   ],
   "source": [
    "etree = ExtraTreesClassifier(n_estimators=150, max_depth=41,min_samples_split=2,n_jobs=-1,random_state=0).fit(x_tr_s, y_train)\n",
    "y_pred= etree.predict(x_te_s)\n",
    "ET_acc = accuracy_score(y_true=y_test, y_pred=y_pred)\n",
    "print(ET_acc)"
   ]
  },
  {
   "cell_type": "code",
   "execution_count": 25,
   "id": "c3432dfa",
   "metadata": {},
   "outputs": [
    {
     "data": {
      "text/plain": [
       "array([[ 13,   0,   0,   0,   0,   1,   0,   0],\n",
       "       [  2, 121,   7,  17,  19,   7,  28,   1],\n",
       "       [  0,  26,  71,  14,  17,  31,  21,   0],\n",
       "       [  2,  31,   8,  98,  27,  27,  12,   2],\n",
       "       [  4,   8,   2,  14, 121,  16,   2,   1],\n",
       "       [  5,   2,   7,   7,  23, 144,   0,   0],\n",
       "       [  1,  22,   3,  12,   2,   0, 153,   3],\n",
       "       [  0,   2,   1,   3,   0,   1,   0,  55]], dtype=int64)"
      ]
     },
     "execution_count": 25,
     "metadata": {},
     "output_type": "execute_result"
    }
   ],
   "source": [
    "cm = confusion_matrix(y_test, y_pred,labels=['calm', 'happy', 'fearful', 'disgust','neutral','sad','angry','surprised'])\n",
    "cm"
   ]
  },
  {
   "cell_type": "code",
   "execution_count": 27,
   "id": "596acf89",
   "metadata": {},
   "outputs": [
    {
     "data": {
      "image/png": "[encoded data removed]",
      "text/plain": [
       "<Figure size 432x288 with 2 Axes>"
      ]
     },
     "metadata": {
      "needs_background": "light"
     },
     "output_type": "display_data"
    }
   ],
   "source": [
    "labels=['calm', 'happy', 'fearful', 'disgust','neutral','sad','angry','surprised']\n",
    "disp = ConfusionMatrixDisplay(confusion_matrix=cm, display_labels=labels)\n",
    "disp.plot()\n",
    "plt.xticks(rotation=45)\n",
    "plt.show()"
   ]
  },
  {
   "cell_type": "markdown",
   "id": "4caf580f",
   "metadata": {},
   "source": [
    "4.Support vector machine"
   ]
  },
  {
   "cell_type": "code",
   "execution_count": 30,
   "id": "023ccc89",
   "metadata": {},
   "outputs": [
    {
     "name": "stdout",
     "output_type": "stream",
     "text": [
      "0.5875102711585867\n"
     ]
    }
   ],
   "source": [
    "#SVM\n",
    "from sklearn import svm\n",
    "svmmodel = svm.SVC(kernel='rbf', gamma='auto') .fit(x_tr_s, y_train)\n",
    "y_pred=svmmodel.predict(x_te_s)\n",
    "svm_acc=accuracy_score(y_true=y_test, y_pred=y_pred)\n",
    "print(svm_acc)"
   ]
  },
  {
   "cell_type": "markdown",
   "id": "3d48fd21",
   "metadata": {},
   "source": [
    "5. Random Forest"
   ]
  },
  {
   "cell_type": "code",
   "execution_count": 70,
   "id": "193fc59c",
   "metadata": {},
   "outputs": [],
   "source": [
    "#RF\n",
    "from sklearn.ensemble import RandomForestClassifier"
   ]
  },
  {
   "cell_type": "code",
   "execution_count": 78,
   "id": "8b360bde",
   "metadata": {},
   "outputs": [
    {
     "name": "stdout",
     "output_type": "stream",
     "text": [
      "0.6162695152013147\n"
     ]
    }
   ],
   "source": [
    "rfc = RandomForestClassifier(n_estimators=110,max_depth=20,n_jobs=-1,min_samples_leaf=2,min_samples_split=14,random_state=0).fit(x_tr_s, y_train)\n",
    "y_pred= rfc.predict(x_te_s)\n",
    "rf_acc = accuracy_score(y_true=y_test, y_pred=y_pred)\n",
    "print(rf_acc)"
   ]
  }
 ],
 "metadata": {
  "kernelspec": {
   "display_name": "Python 3",
   "language": "python",
   "name": "python3"
  },
  "language_info": {
   "codemirror_mode": {
    "name": "ipython",
    "version": 3
   },
   "file_extension": ".py",
   "mimetype": "text/x-python",
   "name": "python",
   "nbconvert_exporter": "python",
   "pygments_lexer": "ipython3",
   "version": "3.8.8"
  }
 },
 "nbformat": 4,
 "nbformat_minor": 5
}
